{
 "cells": [
  {
   "cell_type": "code",
   "execution_count": 1,
   "id": "a248249e-c70f-4749-b8f1-266e72dc9a2c",
   "metadata": {},
   "outputs": [],
   "source": [
    "import pandas as pd\n",
    "import numpy as np \n",
    "import matplotlib.pyplot as plt\n",
    "from sklearn import linear_model"
   ]
  },
  {
   "cell_type": "code",
   "execution_count": null,
   "id": "993a9400-47c8-4b9a-a423-8822242c9bfb",
   "metadata": {},
   "outputs": [],
   "source": [
    "df = pd.read_csv('Home_Price.csv')\n",
    "df"
   ]
  },
  {
   "cell_type": "code",
   "execution_count": null,
   "id": "9ddd1eaf-b665-409c-a2d2-ac7ef0771b9b",
   "metadata": {},
   "outputs": [],
   "source": [
    "%matplotlib inline\n",
    "plt.xlabel('area sq feet')\n",
    "plt.ylabel('price (US $)')\n",
    "plt.scatter(df.area,df.price,color='red',marker=\"*\");"
   ]
  },
  {
   "cell_type": "code",
   "execution_count": null,
   "id": "fe2a7265-38e8-401c-bd42-122fd8b0ffb8",
   "metadata": {},
   "outputs": [],
   "source": [
    "reg = linear_model.LinearRegression()\n",
    "reg.fit(df[['area']],df.price)"
   ]
  },
  {
   "cell_type": "code",
   "execution_count": null,
   "id": "c9d02a72-50b2-43f8-bb6a-eaf272f29624",
   "metadata": {},
   "outputs": [],
   "source": [
    "reg.predict([[3300]])"
   ]
  },
  {
   "cell_type": "code",
   "execution_count": null,
   "id": "304409da-f51c-44d7-a6fe-ea815cc2c8f0",
   "metadata": {},
   "outputs": [],
   "source": [
    "reg.coef_"
   ]
  },
  {
   "cell_type": "code",
   "execution_count": null,
   "id": "ba057994-6f67-4db1-9e2b-b96bd617812c",
   "metadata": {},
   "outputs": [],
   "source": [
    "reg.intercept_"
   ]
  },
  {
   "cell_type": "code",
   "execution_count": null,
   "id": "77791e86-e5b9-4bad-85de-1a4491628d19",
   "metadata": {},
   "outputs": [],
   "source": [
    "m = reg.coef_\n",
    "area = 3300\n",
    "c = 180616.43835616432\n",
    "y = m * area + c"
   ]
  },
  {
   "cell_type": "code",
   "execution_count": null,
   "id": "88805e58-3aef-46cf-8810-802416d55a2f",
   "metadata": {},
   "outputs": [],
   "source": [
    "y"
   ]
  },
  {
   "cell_type": "code",
   "execution_count": null,
   "id": "0f789438-4eba-4cef-9383-8ee9bf614b13",
   "metadata": {},
   "outputs": [],
   "source": [
    "reg.predict([[3200]])"
   ]
  },
  {
   "cell_type": "code",
   "execution_count": null,
   "id": "b9973fea-16be-4ca8-b040-a75df40952d5",
   "metadata": {},
   "outputs": [],
   "source": [
    "d = pd.read_csv('areas.csv')\n",
    "d.head(3)"
   ]
  },
  {
   "cell_type": "code",
   "execution_count": null,
   "id": "0163d3ea-a509-400e-b08a-63757492dc7c",
   "metadata": {},
   "outputs": [],
   "source": [
    "pred_price = reg.predict(d)\n",
    "print(pred_price)"
   ]
  },
  {
   "cell_type": "code",
   "execution_count": null,
   "id": "0e9bcadf-3538-4512-bfa7-098168779653",
   "metadata": {},
   "outputs": [],
   "source": [
    "d['price'] = pred_price\n",
    "d.head(5)"
   ]
  },
  {
   "cell_type": "code",
   "execution_count": null,
   "id": "8a9d6be6-f6a5-4b6d-877e-882af9c1c499",
   "metadata": {},
   "outputs": [],
   "source": [
    "%matplotlib inline\n",
    "plt.xlabel('area sq feet')\n",
    "plt.ylabel('price (US $)')\n",
    "plt.scatter(df.area,df.price,color='red',marker=\"+\");\n",
    "plt.plot(df.area, reg.predict(df[['area']]),color='green');"
   ]
  },
  {
   "cell_type": "code",
   "execution_count": null,
   "id": "f64aca77-0395-4d94-b3c5-38773662b35f",
   "metadata": {},
   "outputs": [],
   "source": [
    "d.to_csv('predicted_price.csv',index=False)"
   ]
  },
  {
   "cell_type": "code",
   "execution_count": null,
   "id": "33aa7303-750f-4d5e-8dae-9d8c60b33692",
   "metadata": {},
   "outputs": [],
   "source": []
  }
 ],
 "metadata": {
  "kernelspec": {
   "display_name": "Python 3 (ipykernel)",
   "language": "python",
   "name": "python3"
  },
  "language_info": {
   "codemirror_mode": {
    "name": "ipython",
    "version": 3
   },
   "file_extension": ".py",
   "mimetype": "text/x-python",
   "name": "python",
   "nbconvert_exporter": "python",
   "pygments_lexer": "ipython3",
   "version": "3.12.1"
  }
 },
 "nbformat": 4,
 "nbformat_minor": 5
}
